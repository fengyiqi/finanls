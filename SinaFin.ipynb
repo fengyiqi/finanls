{
 "cells": [
  {
   "cell_type": "markdown",
   "metadata": {},
   "source": [
    "# Porcess news information"
   ]
  },
  {
   "cell_type": "code",
   "execution_count": 1,
   "metadata": {},
   "outputs": [],
   "source": [
    "import requests\n",
    "import re\n",
    "import pprint"
   ]
  },
  {
   "cell_type": "markdown",
   "metadata": {},
   "source": [
    "## 1. Get web page"
   ]
  },
  {
   "cell_type": "code",
   "execution_count": 2,
   "metadata": {},
   "outputs": [],
   "source": [
    "company = \"阿里巴巴\"\n",
    "url = f\"https://search.sina.com.cn/?country=usstock&q={company}&name={company}&t=&c=news&k={company}&range=all&col=1_7&from=channel&ie=utf-8\"\n",
    "headers = {\n",
    "    \"User-Agent\": \"Mozilla/5.0 (Windows NT 10.0; Win64; x64) AppleWebKit/537.36 (KHTML, like Gecko) \"\n",
    "                  \"Chrome/92.0.4515.159 Safari/537.36 \"\n",
    "}\n",
    "page = requests.get(url, headers=headers).text"
   ]
  },
  {
   "cell_type": "markdown",
   "metadata": {},
   "source": [
    "## 2. Get source and date"
   ]
  },
  {
   "cell_type": "code",
   "execution_count": 3,
   "metadata": {},
   "outputs": [
    {
     "data": {
      "text/plain": [
       "['上游新闻 1小时前',\n",
       " '扬子晚报 2小时前',\n",
       " '中国新闻网 2小时前',\n",
       " '天下网商 3小时前',\n",
       " '金融界网站 3小时前',\n",
       " '人民微看点 4小时前',\n",
       " '扬子晚报 6小时前',\n",
       " '新浪财经 7小时前',\n",
       " '格隆汇APP 2021-09-01 07:20:49',\n",
       " '新浪财经 2021-09-01 07:17:03',\n",
       " '智谷趋势 2021-08-31 23:48:02',\n",
       " 'IT之家 2021-08-31 22:02:27',\n",
       " '新浪财经 2021-08-31 20:52:09',\n",
       " '格隆汇APP 2021-08-31 17:33:22',\n",
       " '新浪科技 2021-08-31 16:17:12',\n",
       " '天下网商 2021-08-31 15:25:29',\n",
       " '新浪VR 2021-08-31 15:13:03',\n",
       " '证券日报 2021-08-31 14:38:00']"
      ]
     },
     "execution_count": 3,
     "metadata": {},
     "output_type": "execute_result"
    }
   ],
   "source": [
    "p_info = '<span class=\"fgray_time\">(.*?)</span>'\n",
    "info = re.findall(p_info, page, re.S)\n",
    "info\n"
   ]
  },
  {
   "cell_type": "markdown",
   "metadata": {},
   "source": [
    "## 3. Get links and titles"
   ]
  },
  {
   "cell_type": "code",
   "execution_count": 4,
   "metadata": {},
   "outputs": [
    {
     "data": {
      "text/plain": [
       "(['https://t.cj.sina.com.cn/articles/view/1664221137/6331ffd102000yj6c',\n",
       "  'https://t.cj.sina.com.cn/articles/view/1653603955/628ffe73020015te0',\n",
       "  'https://t.cj.sina.com.cn/articles/view/1784473157/6a5ce64502002aml8',\n",
       "  'https://t.cj.sina.com.cn/articles/view/2659261621/9e811cb5001012k90',\n",
       "  'https://cj.sina.com.cn/articles/view/1704103183/65928d0f02002gdk7',\n",
       "  'https://k.sina.com.cn/article_7517400647_1c0126e4705901buf3.html',\n",
       "  'https://t.cj.sina.com.cn/articles/view/1653603955/628ffe73020015t5w',\n",
       "  'https://cj.sina.com.cn/articles/view/3876353431/e70c7597001011prs',\n",
       "  'https://t.cj.sina.com.cn/articles/view/1826017320/6cd6d02802000z0rv',\n",
       "  'https://finance.sina.com.cn/stock/usstock/c/2021-08-31/doc-iktzqtyt3237021.shtml',\n",
       "  'https://t.cj.sina.com.cn/articles/view/2659261621/9e811cb5001012job',\n",
       "  'https://cj.sina.com.cn/articles/view/2166321755/811f725b020011q3p',\n",
       "  'https://finance.sina.com.cn/jjxw/2021-08-31/doc-iktzqtyt3247974.shtml'],\n",
       " [\"丰收节9月7日启动 农业农村部选定<font color='red'>阿里巴巴</font>为合作平台\",\n",
       "  \"农业农村部宣布丰收节金秋消费季9月7日启动 <font color='red'>阿里巴巴</font>成为合作平台\",\n",
       "  \"<font color='red'>阿里巴巴</font>成农民丰收节金秋消费季合作平台 助力乡村振兴\",\n",
       "  \"<font color='red'>阿里巴巴</font>成为中国农民丰收节金秋消费季合作平台\",\n",
       "  \"农业农村部宣布丰收节金秋消费季9月7日启动 <font color='red'>阿里巴巴</font>为合作平台\",\n",
       "  \"史诗级儿童舞台剧《<font color='red'>阿里巴巴</font>与四十大盗》首现九江\",\n",
       "  \"<font color='red'>阿里巴巴</font>承办首届粤港澳大湾区购物节\",\n",
       "  \"舆论“顶流”<font color='red'>阿里巴巴</font>\",\n",
       "  \"消息称高晓松从<font color='red'>阿里巴巴</font>离职，阿里大文娱告别“矮大紧”\",\n",
       "  \"热门中概股盘前多数上涨，<font color='red'>阿里巴巴</font>涨3.88%，哔哩哔哩涨3.72%\",\n",
       "  \"<font color='red'>阿里巴巴</font>国际站开启全球采购节，跨境直播单日突破10000场\",\n",
       "  \"<font color='red'>阿里巴巴</font>成立科技新公司 经营范围含VR设备制造等\",\n",
       "  \"<font color='red'>阿里巴巴</font>国际站开启全球采购节 助力中小企业数字化出海\"])"
      ]
     },
     "execution_count": 4,
     "metadata": {},
     "output_type": "execute_result"
    }
   ],
   "source": [
    "p_href = '<h2><a href=\"(.*?)\" target=\"_blank\">'\n",
    "hrefs = re.findall(p_href, page, re.S)\n",
    "p_title = '<h2><a href=.*?target=\"_blank\">(.*?)</a>'\n",
    "titles = re.findall(p_title, page, re.S)\n",
    "hrefs, titles"
   ]
  },
  {
   "cell_type": "markdown",
   "metadata": {},
   "source": [
    "## 4. Clean the data"
   ]
  },
  {
   "cell_type": "code",
   "execution_count": 5,
   "metadata": {},
   "outputs": [],
   "source": [
    "for i, title in enumerate(titles):\n",
    "    titles[i] = title.strip()\n",
    "    titles[i] = re.sub('<.*?>', '', title)"
   ]
  },
  {
   "cell_type": "code",
   "execution_count": 6,
   "metadata": {},
   "outputs": [
    {
     "data": {
      "text/plain": [
       "(['上游新闻',\n",
       "  '扬子晚报',\n",
       "  '中国新闻网',\n",
       "  '天下网商',\n",
       "  '金融界网站',\n",
       "  '人民微看点',\n",
       "  '扬子晚报',\n",
       "  '新浪财经',\n",
       "  '格隆汇APP',\n",
       "  '新浪财经',\n",
       "  '智谷趋势',\n",
       "  'IT之家',\n",
       "  '新浪财经',\n",
       "  '格隆汇APP',\n",
       "  '新浪科技',\n",
       "  '天下网商',\n",
       "  '新浪VR',\n",
       "  '证券日报'],\n",
       " ['1小时前',\n",
       "  '2小时前',\n",
       "  '2小时前',\n",
       "  '3小时前',\n",
       "  '3小时前',\n",
       "  '4小时前',\n",
       "  '6小时前',\n",
       "  '7小时前',\n",
       "  '2021-09-01 07:20:49',\n",
       "  '2021-09-01 07:17:03',\n",
       "  '2021-08-31 23:48:02',\n",
       "  '2021-08-31 22:02:27',\n",
       "  '2021-08-31 20:52:09',\n",
       "  '2021-08-31 17:33:22',\n",
       "  '2021-08-31 16:17:12',\n",
       "  '2021-08-31 15:25:29',\n",
       "  '2021-08-31 15:13:03',\n",
       "  '2021-08-31 14:38:00'])"
      ]
     },
     "execution_count": 6,
     "metadata": {},
     "output_type": "execute_result"
    }
   ],
   "source": [
    "source, date = [], []\n",
    "for i, data in enumerate(info):\n",
    "    source.append(data.split(\" \")[0])\n",
    "    \n",
    "    temp = data.split(\" \")[1:]\n",
    "    date_item = \"\"\n",
    "    for string in temp:\n",
    "        date_item += string\n",
    "        date_item += \" \"\n",
    "    date.append(date_item.strip())\n",
    "    \n",
    "source, date"
   ]
  },
  {
   "cell_type": "markdown",
   "metadata": {},
   "source": [
    "## 5. Show the information"
   ]
  },
  {
   "cell_type": "code",
   "execution_count": 7,
   "metadata": {},
   "outputs": [
    {
     "name": "stdout",
     "output_type": "stream",
     "text": [
      "丰收节9月7日启动 农业农村部选定阿里巴巴为合作平台 (1小时前, 上游新闻)\n",
      "https://t.cj.sina.com.cn/articles/view/1664221137/6331ffd102000yj6c\n",
      "\n",
      "农业农村部宣布丰收节金秋消费季9月7日启动 阿里巴巴成为合作平台 (2小时前, 扬子晚报)\n",
      "https://t.cj.sina.com.cn/articles/view/1653603955/628ffe73020015te0\n",
      "\n",
      "阿里巴巴成农民丰收节金秋消费季合作平台 助力乡村振兴 (2小时前, 中国新闻网)\n",
      "https://t.cj.sina.com.cn/articles/view/1784473157/6a5ce64502002aml8\n",
      "\n",
      "阿里巴巴成为中国农民丰收节金秋消费季合作平台 (3小时前, 天下网商)\n",
      "https://t.cj.sina.com.cn/articles/view/2659261621/9e811cb5001012k90\n",
      "\n",
      "农业农村部宣布丰收节金秋消费季9月7日启动 阿里巴巴为合作平台 (3小时前, 金融界网站)\n",
      "https://cj.sina.com.cn/articles/view/1704103183/65928d0f02002gdk7\n",
      "\n",
      "史诗级儿童舞台剧《阿里巴巴与四十大盗》首现九江 (4小时前, 人民微看点)\n",
      "https://k.sina.com.cn/article_7517400647_1c0126e4705901buf3.html\n",
      "\n",
      "阿里巴巴承办首届粤港澳大湾区购物节 (6小时前, 扬子晚报)\n",
      "https://t.cj.sina.com.cn/articles/view/1653603955/628ffe73020015t5w\n",
      "\n",
      "舆论“顶流”阿里巴巴 (7小时前, 新浪财经)\n",
      "https://cj.sina.com.cn/articles/view/3876353431/e70c7597001011prs\n",
      "\n",
      "消息称高晓松从阿里巴巴离职，阿里大文娱告别“矮大紧” (2021-09-01 07:20:49, 格隆汇APP)\n",
      "https://t.cj.sina.com.cn/articles/view/1826017320/6cd6d02802000z0rv\n",
      "\n",
      "热门中概股盘前多数上涨，阿里巴巴涨3.88%，哔哩哔哩涨3.72% (2021-09-01 07:17:03, 新浪财经)\n",
      "https://finance.sina.com.cn/stock/usstock/c/2021-08-31/doc-iktzqtyt3237021.shtml\n",
      "\n",
      "阿里巴巴国际站开启全球采购节，跨境直播单日突破10000场 (2021-08-31 23:48:02, 智谷趋势)\n",
      "https://t.cj.sina.com.cn/articles/view/2659261621/9e811cb5001012job\n",
      "\n",
      "阿里巴巴成立科技新公司 经营范围含VR设备制造等 (2021-08-31 22:02:27, IT之家)\n",
      "https://cj.sina.com.cn/articles/view/2166321755/811f725b020011q3p\n",
      "\n",
      "阿里巴巴国际站开启全球采购节 助力中小企业数字化出海 (2021-08-31 20:52:09, 新浪财经)\n",
      "https://finance.sina.com.cn/jjxw/2021-08-31/doc-iktzqtyt3247974.shtml\n",
      "\n"
     ]
    }
   ],
   "source": [
    "content = []\n",
    "for i in range(len(titles)):\n",
    "    temp = f\"{titles[i]} ({date[i]}, {source[i]})\\n{hrefs[i]}\\n\"\n",
    "    content.append(temp)\n",
    "    print(temp)"
   ]
  },
  {
   "cell_type": "markdown",
   "metadata": {},
   "source": [
    "# Multiple company news"
   ]
  },
  {
   "cell_type": "code",
   "execution_count": 8,
   "metadata": {},
   "outputs": [],
   "source": [
    "def news(company: str, filename=\"log.txt\"):\n",
    "    \n",
    "    append_to_file(company, filename)\n",
    "    url = f\"https://search.sina.com.cn/?country=usstock&q={company}&name={company}&t=&c=news&k={company}&range=all&col=1_7&from=channel&ie=utf-8\"\n",
    "    headers = {\n",
    "        \"User-Agent\": \"Mozilla/5.0 (Windows NT 10.0; Win64; x64) AppleWebKit/537.36 (KHTML, like Gecko) \"\n",
    "                      \"Chrome/92.0.4515.159 Safari/537.36 \"\n",
    "    }\n",
    "    page = requests.get(url, headers=headers).text\n",
    "    \n",
    "    p_info = '<span class=\"fgray_time\">(.*?)</span>'\n",
    "    info = re.findall(p_info, page, re.S)\n",
    "    \n",
    "    source, date = [], []\n",
    "    for i, data in enumerate(info):\n",
    "        source.append(data.split(\" \")[0])\n",
    "\n",
    "        temp = data.split(\" \")[1:]\n",
    "        date_item = \"\"\n",
    "        for string in temp:\n",
    "            date_item += string\n",
    "            date_item += \" \"\n",
    "        date.append(date_item.strip())\n",
    "        \n",
    "    p_href = '<h2><a href=\"(.*?)\" target=\"_blank\">'\n",
    "    hrefs = re.findall(p_href, page, re.S)\n",
    "    p_title = '<h2><a href=.*?target=\"_blank\">(.*?)</a>'\n",
    "    titles = re.findall(p_title, page, re.S)\n",
    "    for i, title in enumerate(titles):\n",
    "        titles[i] = title.strip()\n",
    "        titles[i] = re.sub('<.*?>', '', title)\n",
    "        \n",
    "    content = []\n",
    "    for i in range(len(titles)):\n",
    "        temp = f\"\\t{titles[i]} ({date[i]}, {source[i]})\\n\\t{hrefs[i]}\"\n",
    "        append_to_file(temp, filename)\n",
    "        content.append(temp)\n",
    "    return content\n",
    "\n",
    "def append_to_file(content: str, filename: str=\"log.txt\"):\n",
    "    with open(filename, mode=\"a+\", encoding=\"utf-8\") as file:\n",
    "        file.write(content)\n",
    "        file.write(\"\\n\")"
   ]
  },
  {
   "cell_type": "code",
   "execution_count": 9,
   "metadata": {},
   "outputs": [
    {
     "name": "stdout",
     "output_type": "stream",
     "text": [
      "腾讯: \n",
      "\t互联网医疗事业大洗牌，腾讯健康、微医、叮当快药们的路在何方？ (14分钟前, 知顿)\n",
      "\thttps://t.cj.sina.com.cn/articles/view/6822828325/196ac192500101051f\n",
      "\t腾讯踩点放弃独家音乐，网易云音乐能捡着便宜吗？ (26分钟前, 红星新闻)\n",
      "\thttps://k.sina.com.cn/article_6105713761_16bedcc6102000yvqm.html\n",
      "\t【前沿】Win11正式版10.5发布 | 腾讯：放弃音乐版权独家授权权利 (35分钟前, 小白测评)\n",
      "\thttps://t.cj.sina.com.cn/articles/view/2022252207/78891eaf019015187\n",
      "\t《扫黑风暴》VIP也要看多个广告、弹窗无关闭钮，腾讯回应 (36分钟前, 澎湃新闻)\n",
      "\thttps://k.sina.com.cn/article_5044281310_12ca99fde02001nhft.html\n",
      "\t腾讯视频超前点播可选集解锁，其他平台会不会跟进？ (37分钟前, 界面)\n",
      "\thttps://k.sina.com.cn/article_6192937794_17120bb4202001nckz.html\n",
      "\t今日，腾讯视频针对网上关于超前点播的热议迅速做出服务优化声明…… (42分钟前, 南京晨报)\n",
      "\thttps://t.cj.sina.com.cn/articles/view/2188202475/826d51eb04000uxla\n",
      "\t腾讯视频就超前点播发声，将尽快调整解锁规则，支持用户选集解锁 (45分钟前, 娱袭)\n",
      "\thttps://k.sina.com.cn/article_7153990137_1aa6939f9001014sxm.html\n",
      "\t腾讯视频将支持用户选集解锁 (55分钟前, ZOL中关村在线)\n",
      "\thttps://t.cj.sina.com.cn/articles/view/1747383115/6826f34b020010hch\n",
      "\t界面早报｜医疗服务价格改革试点方案公布 腾讯放弃音乐版权独家授权权利 (2021-09-01 07:30:00, 界面)\n",
      "\thttps://cj.sina.com.cn/articles/view/6192937794/17120bb4202001nbrh\n",
      "\t丁磊谈腾讯放弃独家音乐版权：期待是真心实意而非阳奉阴违 (2021-09-01 07:24:00, 澎湃新闻)\n",
      "\thttps://finance.sina.com.cn/jjxw/2021-09-01/doc-iktzscyx1567042.shtml\n",
      "\t丁磊谈腾讯放弃音乐独家版权：期待是真心实意的 (2021-09-01 06:59:10, 新浪娱乐)\n",
      "\thttps://ent.sina.com.cn/y/yneidi/2021-09-01/doc-iktzqtyt3332173.shtml\n",
      "\t腾讯全部放弃，音乐版权独家授权作古！网友：周杰伦我来了！股价突然暴涨，网易也嗨了！ (2021-09-01 06:51:36, e公司)\n",
      "\thttps://finance.sina.com.cn/stock/hkstock/ggscyd/2021-09-01/doc-iktzqtyt3331147.shtml\n",
      "\t831热点，巨人教育倒闭、腾讯放弃音乐独家、李阳否认家暴等 (2021-09-01 06:50:45, 一名普通劳动者芸羲)\n",
      "\thttps://k.sina.com.cn/article_6465705862_18162d786001010tzp.html\n",
      "\t腾讯全部放弃，音乐版权独家授权作古！网友：周杰伦我来了！股价暴涨 (2021-09-01 06:36:48, 中新经纬)\n",
      "\thttps://finance.sina.com.cn/jjxw/2021-09-01/doc-iktzscyx1560170.shtml\n",
      "\t各大游戏公司未成年人收入占比，腾讯曾表示不会赚低龄儿童的钱 (2021-09-01 06:28:14, 市场资讯)\n",
      "\thttps://t.cj.sina.com.cn/articles/view/1956700750/74a0e24e04000vxih\n",
      "\t港股早知道｜互联网头部大厂发力投入“元宇宙” 腾讯放弃音乐版权独家授权权利 (2021-09-01 06:13:03, 电商报)\n",
      "\thttps://cj.sina.com.cn/articles/view/1801487174/6b608346020026v9s\n",
      "\t互联网头部大厂发力投入“元宇宙” 腾讯放弃音乐版权独家授权权利 (2021-09-01 05:47:53, 东方财富网)\n",
      "\thttps://cj.sina.com.cn/articles/view/1801487174/6b608346020026v9w\n",
      "阿里巴巴: \n",
      "\t丰收节9月7日启动 农业农村部选定阿里巴巴为合作平台 (1小时前, 上游新闻)\n",
      "\thttps://t.cj.sina.com.cn/articles/view/1664221137/6331ffd102000yj6c\n",
      "\t农业农村部宣布丰收节金秋消费季9月7日启动 阿里巴巴成为合作平台 (2小时前, 扬子晚报)\n",
      "\thttps://t.cj.sina.com.cn/articles/view/1653603955/628ffe73020015te0\n",
      "\t阿里巴巴成农民丰收节金秋消费季合作平台 助力乡村振兴 (2小时前, 中国新闻网)\n",
      "\thttps://t.cj.sina.com.cn/articles/view/1784473157/6a5ce64502002aml8\n",
      "\t阿里巴巴成为中国农民丰收节金秋消费季合作平台 (3小时前, 天下网商)\n",
      "\thttps://t.cj.sina.com.cn/articles/view/2659261621/9e811cb5001012k90\n",
      "\t农业农村部宣布丰收节金秋消费季9月7日启动 阿里巴巴为合作平台 (3小时前, 金融界网站)\n",
      "\thttps://cj.sina.com.cn/articles/view/1704103183/65928d0f02002gdk7\n",
      "\t史诗级儿童舞台剧《阿里巴巴与四十大盗》首现九江 (4小时前, 人民微看点)\n",
      "\thttps://k.sina.com.cn/article_7517400647_1c0126e4705901buf3.html\n",
      "\t阿里巴巴承办首届粤港澳大湾区购物节 (6小时前, 扬子晚报)\n",
      "\thttps://t.cj.sina.com.cn/articles/view/1653603955/628ffe73020015t5w\n",
      "\t舆论“顶流”阿里巴巴 (7小时前, 新浪财经)\n",
      "\thttps://cj.sina.com.cn/articles/view/3876353431/e70c7597001011prs\n",
      "\t消息称高晓松从阿里巴巴离职，阿里大文娱告别“矮大紧” (2021-09-01 07:20:49, 格隆汇APP)\n",
      "\thttps://t.cj.sina.com.cn/articles/view/1826017320/6cd6d02802000z0rv\n",
      "\t热门中概股盘前多数上涨，阿里巴巴涨3.88%，哔哩哔哩涨3.72% (2021-09-01 07:17:03, 新浪财经)\n",
      "\thttps://finance.sina.com.cn/stock/usstock/c/2021-08-31/doc-iktzqtyt3237021.shtml\n",
      "\t阿里巴巴国际站开启全球采购节，跨境直播单日突破10000场 (2021-08-31 23:48:02, 智谷趋势)\n",
      "\thttps://t.cj.sina.com.cn/articles/view/2659261621/9e811cb5001012job\n",
      "\t阿里巴巴成立科技新公司 经营范围含VR设备制造等 (2021-08-31 22:02:27, IT之家)\n",
      "\thttps://cj.sina.com.cn/articles/view/2166321755/811f725b020011q3p\n",
      "\t阿里巴巴国际站开启全球采购节 助力中小企业数字化出海 (2021-08-31 20:52:09, 新浪财经)\n",
      "\thttps://finance.sina.com.cn/jjxw/2021-08-31/doc-iktzqtyt3247974.shtml\n",
      "华为: \n",
      "\t华为2022届应届生招聘，9月五场云端宣讲会马上开讲 (22分钟前, 泛谈新闻)\n",
      "\thttps://t.cj.sina.com.cn/articles/view/6615434006/18a4f8316001025mqu\n",
      "\t华为2022届应届生招聘，9月五场云端宣讲会马上开讲 (22分钟前, 新闻读观)\n",
      "\thttps://t.cj.sina.com.cn/articles/view/6600217387/18967532b001010pbl\n",
      "\t华为张楠：全场景低碳ICT解决方案 助力运营商加速碳达峰、碳中和 (35分钟前, 新浪科技)\n",
      "\thttps://finance.sina.com.cn/tech/2021-09-01/doc-iktzqtyt3478305.shtml\n",
      "\t【生活】神舟十二号航天员记录地球夜景 有1张竟是华为P40拍摄 (35分钟前, 小白测评)\n",
      "\thttps://t.cj.sina.com.cn/articles/view/2022252207/78891eaf019015185\n",
      "\t华为mate40等着你 (49分钟前, 德阳网微博)\n",
      "\thttps://k.sina.com.cn/article_3515307304_d1875528020010i1w.html\n",
      "\t曾比肩华为旗舰，小米新机入网，爷青回？ (51分钟前, 找靓机)\n",
      "\thttps://t.cj.sina.com.cn/articles/view/5802220407/159d6db7702001hfnm\n",
      "\t华为全场景低碳ICT解决方案，助力运营商加速碳达峰、碳中和 (57分钟前, 通信产业报网)\n",
      "\thttps://t.cj.sina.com.cn/articles/view/1708813312/65da6c0002000wwcz\n",
      "\t华为打印机曝光：预装鸿蒙系统＋多端协同功能 (1小时前, ZOL中关村在线)\n",
      "\thttps://t.cj.sina.com.cn/articles/view/1747383115/6826f34b020010hda\n",
      "\t载鸿蒙系统：华为推出首款迷你LED智慧屏 (2021-09-01 07:07:00, 参考消息)\n",
      "\thttps://t.cj.sina.com.cn/articles/view/2375086267/8d90f0bb02001c0zj\n",
      "\t华为路由器AX3 Pro悄然换芯：高通/凌霄方案混合出货 (2021-09-01 06:55:00, 锋潮科技)\n",
      "\thttps://t.cj.sina.com.cn/articles/view/1796445350/6b1394a602000v2pj\n",
      "\t华为公开四类实用纠偏方法 | ArchSummit (2021-09-01 06:10:00, InfoQ)\n",
      "\thttps://t.cj.sina.com.cn/articles/view/1746173800/68147f68019012cnq\n",
      "\t华为的高光时刻，为何要发布EMUI 12？ (2021-08-31 23:23:08, 王石头科技)\n",
      "\thttps://t.cj.sina.com.cn/articles/view/1751603632/686759b000100viwh\n",
      "\t华为前高管璩静入职百度任副总裁 (2021-08-31 22:27:24, 泰伯网)\n",
      "\thttps://t.cj.sina.com.cn/articles/view/1877503207/6fe86ce70190104cf\n",
      "\t展台人气不输“蔚小理”，赛力斯华为智选SF5凭啥出圈？ (2021-08-31 21:43:29, 车界微视)\n",
      "\thttps://k.sina.com.cn/article_2723981015_a25ca6d7001010org.html\n",
      "\t前瞻产业园区周报第26期：《上海国际金融中心建设“十四五”规划》发布，宁波高新区企业与华为强强联合 (2021-08-31 21:37:17, 前瞻网)\n",
      "\thttps://finance.sina.com.cn/roll/2021-08-31/doc-iktzscyx1525155.shtml\n",
      "\t零百加速4.68秒，赛力斯华为智选SF5亮相成都车展 (2021-08-31 21:34:05, 街拍酷车)\n",
      "\thttps://k.sina.com.cn/article_2865930102_aad29f7600100x19o.html\n",
      "\t华为鸿蒙系统究竟怎么样？ | 科技袁人 (2021-08-31 21:06:24, 中科大胡不归)\n",
      "\thttps://k.sina.com.cn/article_3710258141_dd260bdd019011mtr.html\n",
      "\t牵手360后又傍上华为，哪吒下半年可能真的要“起飞” (2021-08-31 21:04:01, 汽车维基)\n",
      "\thttps://t.cj.sina.com.cn/articles/view/1188399215/46d5886f00100yvev\n"
     ]
    }
   ],
   "source": [
    "import pprint\n",
    "import time\n",
    "companys = [\"腾讯\", \"阿里巴巴\", \"华为\"]\n",
    "\n",
    "# while True:\n",
    "for company in companys:\n",
    "    print(f\"{company}: \")\n",
    "    try: \n",
    "        for item in news(company, \"SinaFin.txt\"):\n",
    "            print(item)\n",
    "    except:\n",
    "        print(company + \"新闻获取失败！\")\n",
    "#     time.sleep(10)"
   ]
  },
  {
   "cell_type": "code",
   "execution_count": null,
   "metadata": {},
   "outputs": [],
   "source": []
  }
 ],
 "metadata": {
  "kernelspec": {
   "display_name": "finanls",
   "language": "python",
   "name": "finanls"
  },
  "language_info": {
   "codemirror_mode": {
    "name": "ipython",
    "version": 3
   },
   "file_extension": ".py",
   "mimetype": "text/x-python",
   "name": "python",
   "nbconvert_exporter": "python",
   "pygments_lexer": "ipython3",
   "version": "3.8.11"
  }
 },
 "nbformat": 4,
 "nbformat_minor": 4
}
