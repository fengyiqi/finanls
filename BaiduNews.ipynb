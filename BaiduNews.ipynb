{
 "cells": [
  {
   "cell_type": "markdown",
   "metadata": {},
   "source": [
    "# Porcess news information"
   ]
  },
  {
   "cell_type": "code",
   "execution_count": 1,
   "metadata": {},
   "outputs": [],
   "source": [
    "import requests\n",
    "import re\n",
    "import pprint"
   ]
  },
  {
   "cell_type": "markdown",
   "metadata": {},
   "source": [
    "## 1. Get web page"
   ]
  },
  {
   "cell_type": "code",
   "execution_count": 2,
   "metadata": {},
   "outputs": [],
   "source": [
    "url = \"https://www.baidu.com/s?rtt=1&bsst=1&cl=2&tn=news&rsv_dl=ns_pc&word=%E9%98%BF%E9%87%8C%E5%B7%B4%E5%B7%B4\"\n",
    "headers = {\n",
    "    \"User-Agent\": \"Mozilla/5.0 (Windows NT 10.0; Win64; x64) AppleWebKit/537.36 (KHTML, like Gecko) \"\n",
    "                  \"Chrome/92.0.4515.159 Safari/537.36 \"\n",
    "}\n",
    "page = requests.get(url, headers=headers).text"
   ]
  },
  {
   "cell_type": "markdown",
   "metadata": {},
   "source": [
    "## 2. Get source and date"
   ]
  },
  {
   "cell_type": "code",
   "execution_count": 3,
   "metadata": {},
   "outputs": [
    {
     "data": {
      "text/plain": [
       "['金融界</span>\\n    <span class=\"c-color-gray2 c-font-normal\" aria-label=\"发布于：3小时前\">3小时前</span>\\n',\n",
       " '青瞳视角</span>\\n    <span class=\"c-color-gray2 c-font-normal\" aria-label=\"发布于：3小时前\">3小时前</span>\\n',\n",
       " '金融界</span>\\n    <span class=\"c-color-gray2 c-font-normal\" aria-label=\"发布于：11小时前\">11小时前</span>\\n',\n",
       " '美股研究社</span>\\n    <span class=\"c-color-gray2 c-font-normal\" aria-label=\"发布于：4小时前\">4小时前</span>\\n',\n",
       " '东方财富网</span>\\n    <span class=\"c-color-gray2 c-font-normal\" aria-label=\"发布于：2小时前\">2小时前</span>\\n',\n",
       " '站长之家</span>\\n    <span class=\"c-color-gray2 c-font-normal\" aria-label=\"发布于：4小时前\">4小时前</span>\\n',\n",
       " '36kr</span>\\n    <span class=\"c-color-gray2 c-font-normal\" aria-label=\"发布于：3小时前\">3小时前</span>\\n',\n",
       " '36kr</span>\\n    <span class=\"c-color-gray2 c-font-normal\" aria-label=\"发布于：5小时前\">5小时前</span>\\n',\n",
       " '新浪</span>\\n    <span class=\"c-color-gray2 c-font-normal\" aria-label=\"发布于：10小时前\">10小时前</span>\\n',\n",
       " 'IT之家</span>\\n    <span class=\"c-color-gray2 c-font-normal\" aria-label=\"发布于：昨天22:02\">昨天22:02</span>\\n']"
      ]
     },
     "execution_count": 3,
     "metadata": {},
     "output_type": "execute_result"
    }
   ],
   "source": [
    "p_info = '<div class=\"news-source_Xj4Dv\">.*?class=\"c-color-gray c-font-normal c-gap-right\".*?>(.*?)</div>'\n",
    "info = re.findall(p_info, page, re.S)\n",
    "info"
   ]
  },
  {
   "cell_type": "markdown",
   "metadata": {},
   "source": [
    "## 3. Get links and titles"
   ]
  },
  {
   "cell_type": "code",
   "execution_count": 4,
   "metadata": {},
   "outputs": [
    {
     "data": {
      "text/plain": [
       "(['https://baijiahao.baidu.com/s?id=1709684957207655139&amp;wfr=spider&amp;for=pc',\n",
       "  'https://baijiahao.baidu.com/s?id=1709686340236241567&amp;wfr=spider&amp;for=pc',\n",
       "  'https://baijiahao.baidu.com/s?id=1709654762515232077&amp;wfr=spider&amp;for=pc',\n",
       "  'https://baijiahao.baidu.com/s?id=1709682634140907052&amp;wfr=spider&amp;for=pc',\n",
       "  'http://finance.eastmoney.com/a/202109012076454345.html',\n",
       "  'https://www.chinaz.com/2021/0901/1298638.shtml',\n",
       "  'https://36kr.com/p/1379480268356998',\n",
       "  'https://36kr.com/p/1379482820951424',\n",
       "  'https://news.sina.cn/kx/2021-09-01/detail-iktzscyx1577527.d.html',\n",
       "  'https://baijiahao.baidu.com/s?id=1709617760064622393&amp;wfr=spider&amp;for=pc'],\n",
       " ['农业农村部宣布丰收节金秋消费季9月7日启动 <em>阿里巴巴</em>为合作平台',\n",
       "  '<em>阿里巴巴</em>承办首届粤港澳大湾区购物节',\n",
       "  '易居企业控股(02048)与<em>阿里巴巴</em>中国订立第二份战略合作修订协议以...',\n",
       "  '首届粤港澳大湾区购物节于9月2日开启,<em>阿里巴巴</em>为承办方',\n",
       "  '易居与<em>阿里巴巴</em>中国订立第二份战略合作修订协议',\n",
       "  '<em>阿里巴巴</em>宣布将承办首届粤港澳大湾区购物节',\n",
       "  '53岁教授冲击IPO,七名创始人五个博士,最低学历是清华本科',\n",
       "  '<em>阿里</em>腾讯竞跑NFT,一张“小破图”凭什么卖几亿?',\n",
       "  '易居企业控股:与<em>阿里巴巴</em>中国订立第二份战略合作修订协议',\n",
       "  '消息称高晓松从<em>阿里巴巴</em>离职,阿里大文娱告别“矮大紧”'])"
      ]
     },
     "execution_count": 4,
     "metadata": {},
     "output_type": "execute_result"
    }
   ],
   "source": [
    "p_href = '<h3 class=\"news-title_1YtI1\"><a href=\"(.*?)\"'\n",
    "hrefs = re.findall(p_href, page, re.S)\n",
    "p_title = '<h3 class=\"news-title_1YtI1\">.*?<!--s-text-->(.*?)<!--/s-text-->'\n",
    "titles = re.findall(p_title, page, re.S)\n",
    "hrefs, titles"
   ]
  },
  {
   "cell_type": "markdown",
   "metadata": {},
   "source": [
    "## 4. Clean the data"
   ]
  },
  {
   "cell_type": "code",
   "execution_count": 5,
   "metadata": {},
   "outputs": [
    {
     "data": {
      "text/plain": [
       "(['农业农村部宣布丰收节金秋消费季9月7日启动 阿里巴巴为合作平台',\n",
       "  '阿里巴巴承办首届粤港澳大湾区购物节',\n",
       "  '易居企业控股(02048)与阿里巴巴中国订立第二份战略合作修订协议以...',\n",
       "  '首届粤港澳大湾区购物节于9月2日开启,阿里巴巴为承办方',\n",
       "  '易居与阿里巴巴中国订立第二份战略合作修订协议',\n",
       "  '阿里巴巴宣布将承办首届粤港澳大湾区购物节',\n",
       "  '53岁教授冲击IPO,七名创始人五个博士,最低学历是清华本科',\n",
       "  '阿里腾讯竞跑NFT,一张“小破图”凭什么卖几亿?',\n",
       "  '易居企业控股:与阿里巴巴中国订立第二份战略合作修订协议',\n",
       "  '消息称高晓松从阿里巴巴离职,阿里大文娱告别“矮大紧”'],\n",
       " ['金融界',\n",
       "  '青瞳视角',\n",
       "  '金融界',\n",
       "  '美股研究社',\n",
       "  '东方财富网',\n",
       "  '站长之家',\n",
       "  '36kr',\n",
       "  '36kr',\n",
       "  '新浪',\n",
       "  'IT之家'],\n",
       " ['3小时前',\n",
       "  '3小时前',\n",
       "  '11小时前',\n",
       "  '4小时前',\n",
       "  '2小时前',\n",
       "  '4小时前',\n",
       "  '3小时前',\n",
       "  '5小时前',\n",
       "  '10小时前',\n",
       "  '昨天22:02'])"
      ]
     },
     "execution_count": 5,
     "metadata": {},
     "output_type": "execute_result"
    }
   ],
   "source": [
    "for i, title in enumerate(titles):\n",
    "    titles[i] = title.strip()\n",
    "    titles[i] = re.sub('<.*?>', '', title)\n",
    "\n",
    "source, date = [], []\n",
    "for i, data in enumerate(info):\n",
    "    source.append(data.split(\"</span>\")[0])\n",
    "    temp = data.split(\"</span>\")[1].strip()\n",
    "    temp = re.sub(\"<.*?>\", '', temp)\n",
    "    date.append(temp)\n",
    "    \n",
    "titles, source, date"
   ]
  },
  {
   "cell_type": "markdown",
   "metadata": {},
   "source": [
    "## 5. Show the information"
   ]
  },
  {
   "cell_type": "code",
   "execution_count": 6,
   "metadata": {},
   "outputs": [
    {
     "name": "stdout",
     "output_type": "stream",
     "text": [
      "农业农村部宣布丰收节金秋消费季9月7日启动 阿里巴巴为合作平台 (3小时前, 金融界)\n",
      "https://baijiahao.baidu.com/s?id=1709684957207655139&amp;wfr=spider&amp;for=pc\n",
      "\n",
      "阿里巴巴承办首届粤港澳大湾区购物节 (3小时前, 青瞳视角)\n",
      "https://baijiahao.baidu.com/s?id=1709686340236241567&amp;wfr=spider&amp;for=pc\n",
      "\n",
      "易居企业控股(02048)与阿里巴巴中国订立第二份战略合作修订协议以... (11小时前, 金融界)\n",
      "https://baijiahao.baidu.com/s?id=1709654762515232077&amp;wfr=spider&amp;for=pc\n",
      "\n",
      "首届粤港澳大湾区购物节于9月2日开启,阿里巴巴为承办方 (4小时前, 美股研究社)\n",
      "https://baijiahao.baidu.com/s?id=1709682634140907052&amp;wfr=spider&amp;for=pc\n",
      "\n",
      "易居与阿里巴巴中国订立第二份战略合作修订协议 (2小时前, 东方财富网)\n",
      "http://finance.eastmoney.com/a/202109012076454345.html\n",
      "\n",
      "阿里巴巴宣布将承办首届粤港澳大湾区购物节 (4小时前, 站长之家)\n",
      "https://www.chinaz.com/2021/0901/1298638.shtml\n",
      "\n",
      "53岁教授冲击IPO,七名创始人五个博士,最低学历是清华本科 (3小时前, 36kr)\n",
      "https://36kr.com/p/1379480268356998\n",
      "\n",
      "阿里腾讯竞跑NFT,一张“小破图”凭什么卖几亿? (5小时前, 36kr)\n",
      "https://36kr.com/p/1379482820951424\n",
      "\n",
      "易居企业控股:与阿里巴巴中国订立第二份战略合作修订协议 (10小时前, 新浪)\n",
      "https://news.sina.cn/kx/2021-09-01/detail-iktzscyx1577527.d.html\n",
      "\n",
      "消息称高晓松从阿里巴巴离职,阿里大文娱告别“矮大紧” (昨天22:02, IT之家)\n",
      "https://baijiahao.baidu.com/s?id=1709617760064622393&amp;wfr=spider&amp;for=pc\n",
      "\n"
     ]
    }
   ],
   "source": [
    "content = []\n",
    "for i in range(len(titles)):\n",
    "    temp = f\"{titles[i]} ({date[i]}, {source[i]})\\n{hrefs[i]}\\n\"\n",
    "    content.append(temp)\n",
    "    print(temp)"
   ]
  },
  {
   "cell_type": "markdown",
   "metadata": {},
   "source": [
    "# Multiple company news"
   ]
  },
  {
   "cell_type": "code",
   "execution_count": 7,
   "metadata": {},
   "outputs": [],
   "source": [
    "def news(company: str, filename=\"log.txt\"):\n",
    "    \n",
    "    append_to_file(company, filename)\n",
    "    url = \"https://www.baidu.com/s?rtt=4&bsst=1&cl=2&tn=news&rsv_dl=ns_pc&word=\" + company + \"&pn=0\" # 0: page 1, 10: page 2, ...\n",
    "    headers = {\n",
    "        \"User-Agent\": \"Mozilla/5.0 (Windows NT 10.0; Win64; x64) AppleWebKit/537.36 (KHTML, like Gecko) \"\n",
    "                      \"Chrome/92.0.4515.159 Safari/537.36 \"\n",
    "    }\n",
    "    page = requests.get(url, headers=headers, timeout=10).text\n",
    "    \n",
    "    p_info = '<div class=\"news-source_Xj4Dv\">.*?class=\"c-color-gray c-font-normal c-gap-right\".*?>(.*?)</div>'\n",
    "    info = re.findall(p_info, page, re.S)\n",
    "    \n",
    "    source, date = [], []\n",
    "    for i, data in enumerate(info):\n",
    "        source.append(data.split(\"</span>\")[0])\n",
    "        temp = data.split(\"</span>\")[1].strip()\n",
    "        temp = re.sub(\"<.*?>\", '', temp)\n",
    "        date.append(temp)\n",
    "        \n",
    "    p_href = '<h3 class=\"news-title_1YtI1\"><a href=\"(.*?)\"'\n",
    "    hrefs = re.findall(p_href, page, re.S)\n",
    "    \n",
    "    p_title = '<h3 class=\"news-title_1YtI1\">.*?<!--s-text-->(.*?)<!--/s-text-->'\n",
    "    titles = re.findall(p_title, page, re.S)\n",
    "    for i, title in enumerate(titles):\n",
    "        titles[i] = title.strip()\n",
    "        titles[i] = re.sub('<.*?>', '', title)\n",
    "        \n",
    "    content = []\n",
    "    for i in range(len(titles)):\n",
    "        temp = f\"\\t{titles[i]} ({date[i]}, {source[i]})\\n\\t{hrefs[i]}\"\n",
    "        append_to_file(temp, filename)\n",
    "        content.append(temp)\n",
    "    return content\n",
    "\n",
    "def append_to_file(content: str, filename: str=\"log.txt\"):\n",
    "    with open(filename, mode=\"a+\", encoding=\"utf-8\") as file:\n",
    "        file.write(content)\n",
    "        file.write(\"\\n\")"
   ]
  },
  {
   "cell_type": "code",
   "execution_count": 8,
   "metadata": {},
   "outputs": [
    {
     "name": "stdout",
     "output_type": "stream",
     "text": [
      "腾讯: \n",
      "\t继腾讯视频后 爱奇艺也将提供“超前点播单集可选”功能 ​​... (今天, 1905电影网)\n",
      "\thttps://www.1905.com/news/20210901/1538474.shtml\n",
      "\t腾讯发布声明:放弃! (4小时前, 搜狐网)\n",
      "\thttps://www.sohu.com/a/487074784_121190299\n",
      "\t新闻中心-腾讯网 (, 腾讯网)\n",
      "\thttps://new.qq.com/omn/author/20572465\n",
      "\t阿里腾讯竞跑NFT,一张“小破图”凭什么卖几亿? (5小时前, 36kr)\n",
      "\thttps://36kr.com/p/1379482820951424\n",
      "\t腾讯内容开放平台 (今天, 腾讯网)\n",
      "\thttps://new.qq.com/sv1/qd/aoyou.html?cmsid=20210901A03F2U00.html\n",
      "\t突然!腾讯宣布:放弃 (7小时前, 搜狐网)\n",
      "\thttps://www.sohu.com/a/487038105_349109\n",
      "\t突然!腾讯放弃了 (9小时前, 新浪网)\n",
      "\thttp://k.sina.com.cn/article_5044511176_12cad21c801900v5z2.html\n",
      "\t突然!腾讯放弃了… (10小时前, 新浪新闻)\n",
      "\thttp://k.sina.com.cn/article_2075245652_7bb1bc5402001fqw1.html\n",
      "\t腾讯放弃独家音乐版权 (, 新浪网)\n",
      "\thttps://k.sina.cn/article_6145283913_m16e49974902001grgu.html\n",
      "\t腾讯游戏不怕失去小学生 (12小时前, 市界)\n",
      "\thttps://baijiahao.baidu.com/s?id=1709608083736927493&amp;wfr=spider&amp;for=pc\n",
      "阿里巴巴: \n",
      "\t易居与阿里巴巴中国订立第二份战略合作修订协议 (2小时前, 东方财富网)\n",
      "\thttp://finance.eastmoney.com/a/202109012076454345.html\n",
      "\t阿里巴巴不懂外贸 (3小时前, 邦阅网)\n",
      "\thttps://baijiahao.baidu.com/s?id=1709685892599427055&amp;wfr=spider&amp;for=pc\n",
      "\t阿里巴巴没有错,如果泄露内网信息也可以被原谅,企业无法开展工作 (3小时前, 网易)\n",
      "\thttps://www.163.com/dy/article/GIQQI19605493TYY.html\n",
      "\t53岁教授冲击IPO,七名创始人五个博士,最低学历是清华本科 (3小时前, 36kr)\n",
      "\thttps://36kr.com/p/1379480268356998\n",
      "\t阿里巴巴将承办首届粤港澳大湾区购物节 (3小时前, donews)\n",
      "\thttps://www.donews.com/news/detail/8/3170354.html\n",
      "\t农业农村部宣布丰收节金秋消费季9月7日启动 阿里巴巴为合作平台 (3小时前, 金融界)\n",
      "\thttps://baijiahao.baidu.com/s?id=1709684957207655139&amp;wfr=spider&amp;for=pc\n",
      "\t速速抢票!史诗级儿童舞台剧《阿里巴巴与四十大盗》首现九江 (4小时前, 人民资讯)\n",
      "\thttps://baijiahao.baidu.com/s?id=1709684953829792653&amp;wfr=spider&amp;for=pc\n",
      "\t首届粤港澳大湾区购物节于9月2日开启,阿里巴巴为承办方 (4小时前, 美股研究社)\n",
      "\thttps://baijiahao.baidu.com/s?id=1709682634140907052&amp;wfr=spider&amp;for=pc\n",
      "\t9月1日视觉中国涨停分析:阿里巴巴概念股,腾讯概念股,旅游概念热股 (4小时前, 搜狐网)\n",
      "\thttps://www.sohu.com/a/487073702_115377\n",
      "\t如果杭州失去阿里巴巴,会对经济造成影响吗? (5小时前, 网易)\n",
      "\thttps://www.163.com/dy/article/GIQL8S1J0531MYZO.html\n",
      "华为: \n",
      "\t华为2022届应届生招聘已经启动,快来寻找你的最佳雇主 (7分钟前, 极客星球)\n",
      "\thttps://baijiahao.baidu.com/s?id=1709698424999594579&amp;wfr=spider&amp;for=pc\n",
      "\tHUAWEI 华为 Watch 3 智能手表 + Freebuds Pro 蓝牙耳机 (, 太平洋电脑网)\n",
      "\thttp://best.pconline.com.cn/youhui/11205740.html\n",
      "\t3颗激光雷达+20寸大屏,配鸿蒙OS系统,阿尔法S 华为HI版行不行? (18分钟前, 网易)\n",
      "\thttps://www.163.com/dy/article/GIR5E5RK0552CPH2.html\n",
      "\t为什么华为搞军事化管理可以成功,而你的公司一弄员工就离职? (21分钟前, 网易)\n",
      "\thttps://www.163.com/dy/article/GIR58UFF053726UX.html\n",
      "\t内卷没有尽头!华为老总亲自直播带货,酷派特邀“哥哥”前来助阵 (21分钟前, 网易)\n",
      "\thttps://www.163.com/dy/article/GIR58CL405421N9D.html\n",
      "\t开讲啦!华为2022届应届生招聘云端宣讲会即将开始 (22分钟前, 搜狐网)\n",
      "\thttps://www.sohu.com/a/487123351_120168393\n",
      "\t华为FreeBuds 4 无线耳机有线充版上市,到手价 799 元 (22分钟前, ZAKER)\n",
      "\thttp://app.myzaker.com/news/article.php?pk=612f30e18e9f095d5d63311f&amp;f=huangli\n",
      "\t释放不寻常信号!中国大使致电慰问华为CFO,并承诺会让她早日回家 (31分钟前, 网易)\n",
      "\thttps://www.163.com/dy/article/GIR4LD0A0542Q9P6.html\n",
      "\t华为,能否撕掉“爱国”的标签? (32分钟前, 物联新视觉)\n",
      "\thttps://baijiahao.baidu.com/s?id=1709696903835622994&amp;wfr=spider&amp;for=pc\n",
      "\t华为张楠:全场景低碳ICT解决方案 助力运营商加速碳达峰、碳中和 (36分钟前, 新浪财经)\n",
      "\thttp://finance.sina.com.cn/tech/2021-09-01/doc-iktzqtyt3478305.shtml\n"
     ]
    }
   ],
   "source": [
    "import pprint\n",
    "import time\n",
    "companys = [\"腾讯\", \"阿里巴巴\", \"华为\"]\n",
    "\n",
    "# while True:\n",
    "for company in companys:\n",
    "    print(f\"{company}: \")\n",
    "    try: \n",
    "        for item in news(company, \"BaiduNews.txt\"):\n",
    "            print(item)\n",
    "    except:\n",
    "        print(company + \"新闻获取失败！\")\n",
    "#     time.sleep(10)"
   ]
  },
  {
   "cell_type": "code",
   "execution_count": null,
   "metadata": {},
   "outputs": [],
   "source": []
  }
 ],
 "metadata": {
  "kernelspec": {
   "display_name": "finanls",
   "language": "python",
   "name": "finanls"
  },
  "language_info": {
   "codemirror_mode": {
    "name": "ipython",
    "version": 3
   },
   "file_extension": ".py",
   "mimetype": "text/x-python",
   "name": "python",
   "nbconvert_exporter": "python",
   "pygments_lexer": "ipython3",
   "version": "3.8.11"
  }
 },
 "nbformat": 4,
 "nbformat_minor": 4
}
