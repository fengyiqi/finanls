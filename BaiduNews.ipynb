{
 "cells": [
  {
   "cell_type": "code",
   "execution_count": 1,
   "metadata": {},
   "outputs": [],
   "source": [
    "import requests\n",
    "import re\n",
    "import pprint"
   ]
  },
  {
   "cell_type": "markdown",
   "metadata": {},
   "source": [
    "## Get web page"
   ]
  },
  {
   "cell_type": "code",
   "execution_count": 2,
   "metadata": {},
   "outputs": [],
   "source": [
    "url = \"https://www.baidu.com/s?rtt=1&bsst=1&cl=2&tn=news&rsv_dl=ns_pc&word=%E9%98%BF%E9%87%8C%E5%B7%B4%E5%B7%B4\"\n",
    "headers = {\n",
    "    \"User-Agent\": \"Mozilla/5.0 (Windows NT 10.0; Win64; x64) AppleWebKit/537.36 (KHTML, like Gecko) \"\n",
    "                  \"Chrome/92.0.4515.159 Safari/537.36 \"\n",
    "}\n",
    "page = requests.get(url, headers=headers).text"
   ]
  },
  {
   "cell_type": "markdown",
   "metadata": {},
   "source": [
    "## Get source and date"
   ]
  },
  {
   "cell_type": "code",
   "execution_count": 3,
   "metadata": {},
   "outputs": [
    {
     "data": {
      "text/plain": [
       "['网易</span>\\n    <span class=\"c-color-gray2 c-font-normal\" aria-label=\"发布于：27分钟前\">27分钟前</span>\\n',\n",
       " '中国日报网</span>\\n    <span class=\"c-color-gray2 c-font-normal\" aria-label=\"发布于：昨天19:30\">昨天19:30</span>\\n',\n",
       " 'IT之家</span>\\n    <span class=\"c-color-gray2 c-font-normal\" aria-label=\"发布于：昨天22:02\">昨天22:02</span>\\n',\n",
       " '快科技</span>\\n    <span class=\"c-color-gray2 c-font-normal\" aria-label=\"发布于：1小时前\">1小时前</span>\\n',\n",
       " '腾讯网</span>\\n    <span class=\"c-color-gray2 c-font-normal\" aria-label=\"发布于：昨天22:20\">昨天22:20</span>\\n',\n",
       " '网易</span>\\n    <span class=\"c-color-gray2 c-font-normal\" aria-label=\"发布于：昨天22:15\">昨天22:15</span>\\n',\n",
       " '快科技</span>\\n    <span class=\"c-color-gray2 c-font-normal\" aria-label=\"发布于：昨天15:02\">昨天15:02</span>\\n',\n",
       " '山东热搜</span>\\n    <span class=\"c-color-gray2 c-font-normal\" aria-label=\"发布于：1小时前\">1小时前</span>\\n',\n",
       " '东方财富网</span>\\n    <span class=\"c-color-gray2 c-font-normal\" aria-label=\"发布于：昨天17:33\">昨天17:33</span>\\n',\n",
       " '腾讯网</span>\\n    <span class=\"c-color-gray2 c-font-normal\" aria-label=\"发布于：昨天17:56\">昨天17:56</span>\\n']"
      ]
     },
     "execution_count": 3,
     "metadata": {},
     "output_type": "execute_result"
    }
   ],
   "source": [
    "p_info = '<div class=\"news-source_Xj4Dv\">.*?class=\"c-color-gray c-font-normal c-gap-right\".*?>(.*?)</div>'\n",
    "info = re.findall(p_info, page, re.S)\n",
    "info"
   ]
  },
  {
   "cell_type": "markdown",
   "metadata": {},
   "source": [
    "## Get links and titles"
   ]
  },
  {
   "cell_type": "code",
   "execution_count": 4,
   "metadata": {},
   "outputs": [
    {
     "data": {
      "text/plain": [
       "(['https://www.163.com/dy/article/GIP9B2C30528O91M.html',\n",
       "  'https://baijiahao.baidu.com/s?id=1709609018984597714&amp;wfr=spider&amp;for=pc',\n",
       "  'https://baijiahao.baidu.com/s?id=1709617760064622393&amp;wfr=spider&amp;for=pc',\n",
       "  'https://news.mydrivers.com/1/780/780230.htm',\n",
       "  'https://new.qq.com/omn/20210831/20210831A0EP9U00.html',\n",
       "  'https://www.163.com/dy/article/GIOTDU8N0531UGST.html',\n",
       "  'https://news.mydrivers.com/1/780/780065.htm',\n",
       "  'https://baijiahao.baidu.com/s?id=1709626515561472460&amp;wfr=spider&amp;for=pc',\n",
       "  'http://finance.eastmoney.com/a/202108312074308014.html',\n",
       "  'http://new.qq.com/omn/ENT20190/20210831A0AFJW00.html'],\n",
       " ['市盈率仅20倍 <em>阿里</em>估值静候修正',\n",
       "  '<em>阿里巴巴</em>国际站开启九月全球采购节,跨境直播单日突破10000场',\n",
       "  '消息称高晓松从<em>阿里巴巴</em>离职,阿里大文娱告别“矮大紧”',\n",
       "  '媒体:高晓松已从阿里离职-<em>阿里巴巴</em>,高晓松 ——快科技(驱动之家旗...',\n",
       "  '消息称高晓松从<em>阿里巴巴</em>离职,阿里大文娱告别“矮大紧”',\n",
       "  '马云被<em>阿里巴巴</em>除名?当年的互联网大佬们,为何选择从台前隐身',\n",
       "  '2021服贸会即将开幕 阿里将发布一系列技术研究成果-<em>阿里巴巴</em>...',\n",
       "  '本报联合<em>阿里巴巴</em>天天正能量奖励万元为孝心少年加油',\n",
       "  '<em>阿里巴巴</em>(BABA.US)盘前涨近4%',\n",
       "  '胡润公布全球公司排名,马云创始人头衔也被剥夺?'])"
      ]
     },
     "execution_count": 4,
     "metadata": {},
     "output_type": "execute_result"
    }
   ],
   "source": [
    "p_href = '<h3 class=\"news-title_1YtI1\"><a href=\"(.*?)\"'\n",
    "hrefs = re.findall(p_href, page, re.S)\n",
    "p_title = '<h3 class=\"news-title_1YtI1\">.*?<!--s-text-->(.*?)<!--/s-text-->'\n",
    "titles = re.findall(p_title, page, re.S)\n",
    "hrefs, titles"
   ]
  },
  {
   "cell_type": "markdown",
   "metadata": {},
   "source": [
    "## Clean the titles"
   ]
  },
  {
   "cell_type": "code",
   "execution_count": 5,
   "metadata": {},
   "outputs": [
    {
     "data": {
      "text/plain": [
       "['市盈率仅20倍 阿里估值静候修正',\n",
       " '阿里巴巴国际站开启九月全球采购节,跨境直播单日突破10000场',\n",
       " '消息称高晓松从阿里巴巴离职,阿里大文娱告别“矮大紧”',\n",
       " '媒体:高晓松已从阿里离职-阿里巴巴,高晓松 ——快科技(驱动之家旗...',\n",
       " '消息称高晓松从阿里巴巴离职,阿里大文娱告别“矮大紧”',\n",
       " '马云被阿里巴巴除名?当年的互联网大佬们,为何选择从台前隐身',\n",
       " '2021服贸会即将开幕 阿里将发布一系列技术研究成果-阿里巴巴...',\n",
       " '本报联合阿里巴巴天天正能量奖励万元为孝心少年加油',\n",
       " '阿里巴巴(BABA.US)盘前涨近4%',\n",
       " '胡润公布全球公司排名,马云创始人头衔也被剥夺?']"
      ]
     },
     "execution_count": 5,
     "metadata": {},
     "output_type": "execute_result"
    }
   ],
   "source": [
    "for i, title in enumerate(titles):\n",
    "    titles[i] = title.strip()\n",
    "    titles[i] = re.sub('<.*?>', '', title)\n",
    "titles"
   ]
  },
  {
   "cell_type": "code",
   "execution_count": 6,
   "metadata": {},
   "outputs": [
    {
     "data": {
      "text/plain": [
       "(['网易', '中国日报网', 'IT之家', '快科技', '腾讯网', '网易', '快科技', '山东热搜', '东方财富网', '腾讯网'],\n",
       " ['27分钟前',\n",
       "  '昨天19:30',\n",
       "  '昨天22:02',\n",
       "  '1小时前',\n",
       "  '昨天22:20',\n",
       "  '昨天22:15',\n",
       "  '昨天15:02',\n",
       "  '1小时前',\n",
       "  '昨天17:33',\n",
       "  '昨天17:56'])"
      ]
     },
     "execution_count": 6,
     "metadata": {},
     "output_type": "execute_result"
    }
   ],
   "source": [
    "source, date = [], []\n",
    "for i, data in enumerate(info):\n",
    "    source.append(data.split(\"</span>\")[0])\n",
    "    temp = data.split(\"</span>\")[1].strip()\n",
    "    temp = re.sub(\"<.*?>\", '', temp)\n",
    "    date.append(temp)\n",
    "    \n",
    "source, date"
   ]
  },
  {
   "cell_type": "code",
   "execution_count": 9,
   "metadata": {},
   "outputs": [
    {
     "name": "stdout",
     "output_type": "stream",
     "text": [
      "市盈率仅20倍 阿里估值静候修正 (27分钟前, 网易)\n",
      "https://www.163.com/dy/article/GIP9B2C30528O91M.html\n",
      "\n",
      "阿里巴巴国际站开启九月全球采购节,跨境直播单日突破10000场 (昨天19:30, 中国日报网)\n",
      "https://baijiahao.baidu.com/s?id=1709609018984597714&amp;wfr=spider&amp;for=pc\n",
      "\n",
      "消息称高晓松从阿里巴巴离职,阿里大文娱告别“矮大紧” (昨天22:02, IT之家)\n",
      "https://baijiahao.baidu.com/s?id=1709617760064622393&amp;wfr=spider&amp;for=pc\n",
      "\n",
      "媒体:高晓松已从阿里离职-阿里巴巴,高晓松 ——快科技(驱动之家旗... (1小时前, 快科技)\n",
      "https://news.mydrivers.com/1/780/780230.htm\n",
      "\n",
      "消息称高晓松从阿里巴巴离职,阿里大文娱告别“矮大紧” (昨天22:20, 腾讯网)\n",
      "https://new.qq.com/omn/20210831/20210831A0EP9U00.html\n",
      "\n",
      "马云被阿里巴巴除名?当年的互联网大佬们,为何选择从台前隐身 (昨天22:15, 网易)\n",
      "https://www.163.com/dy/article/GIOTDU8N0531UGST.html\n",
      "\n",
      "2021服贸会即将开幕 阿里将发布一系列技术研究成果-阿里巴巴... (昨天15:02, 快科技)\n",
      "https://news.mydrivers.com/1/780/780065.htm\n",
      "\n",
      "本报联合阿里巴巴天天正能量奖励万元为孝心少年加油 (1小时前, 山东热搜)\n",
      "https://baijiahao.baidu.com/s?id=1709626515561472460&amp;wfr=spider&amp;for=pc\n",
      "\n",
      "阿里巴巴(BABA.US)盘前涨近4% (昨天17:33, 东方财富网)\n",
      "http://finance.eastmoney.com/a/202108312074308014.html\n",
      "\n",
      "胡润公布全球公司排名,马云创始人头衔也被剥夺? (昨天17:56, 腾讯网)\n",
      "http://new.qq.com/omn/ENT20190/20210831A0AFJW00.html\n",
      "\n"
     ]
    }
   ],
   "source": [
    "content = []\n",
    "for i in range(len(titles)):\n",
    "    temp = f\"{titles[i]} ({date[i]}, {source[i]})\\n{hrefs[i]}\\n\"\n",
    "    content.append(temp)\n",
    "    print(temp)"
   ]
  },
  {
   "cell_type": "code",
   "execution_count": null,
   "metadata": {},
   "outputs": [],
   "source": []
  }
 ],
 "metadata": {
  "kernelspec": {
   "display_name": "finanls",
   "language": "python",
   "name": "finanls"
  },
  "language_info": {
   "codemirror_mode": {
    "name": "ipython",
    "version": 3
   },
   "file_extension": ".py",
   "mimetype": "text/x-python",
   "name": "python",
   "nbconvert_exporter": "python",
   "pygments_lexer": "ipython3",
   "version": "3.8.11"
  }
 },
 "nbformat": 4,
 "nbformat_minor": 4
}
